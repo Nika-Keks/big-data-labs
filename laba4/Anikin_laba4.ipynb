{
 "cells": [
  {
   "cell_type": "code",
   "execution_count": 12,
   "metadata": {},
   "outputs": [],
   "source": [
    "import numpy as np\n",
    "import pandas as pd\n",
    "from scipy import stats as stats\n",
    "from matplotlib import pyplot as plt"
   ]
  },
  {
   "cell_type": "code",
   "execution_count": 13,
   "metadata": {},
   "outputs": [
    {
     "data": {
      "text/html": [
       "<div>\n",
       "<style scoped>\n",
       "    .dataframe tbody tr th:only-of-type {\n",
       "        vertical-align: middle;\n",
       "    }\n",
       "\n",
       "    .dataframe tbody tr th {\n",
       "        vertical-align: top;\n",
       "    }\n",
       "\n",
       "    .dataframe thead th {\n",
       "        text-align: right;\n",
       "    }\n",
       "</style>\n",
       "<table border=\"1\" class=\"dataframe\">\n",
       "  <thead>\n",
       "    <tr style=\"text-align: right;\">\n",
       "      <th></th>\n",
       "      <th>k</th>\n",
       "      <th>nois</th>\n",
       "      <th>true_trend</th>\n",
       "      <th>x</th>\n",
       "    </tr>\n",
       "  </thead>\n",
       "  <tbody>\n",
       "    <tr>\n",
       "      <th>0</th>\n",
       "      <td>0</td>\n",
       "      <td>0.792851</td>\n",
       "      <td>0.000000</td>\n",
       "      <td>0.792851</td>\n",
       "    </tr>\n",
       "    <tr>\n",
       "      <th>1</th>\n",
       "      <td>1</td>\n",
       "      <td>-1.011445</td>\n",
       "      <td>0.223607</td>\n",
       "      <td>-0.787838</td>\n",
       "    </tr>\n",
       "    <tr>\n",
       "      <th>2</th>\n",
       "      <td>2</td>\n",
       "      <td>-0.168596</td>\n",
       "      <td>0.316228</td>\n",
       "      <td>0.147632</td>\n",
       "    </tr>\n",
       "    <tr>\n",
       "      <th>3</th>\n",
       "      <td>3</td>\n",
       "      <td>-0.435832</td>\n",
       "      <td>0.387298</td>\n",
       "      <td>-0.048534</td>\n",
       "    </tr>\n",
       "    <tr>\n",
       "      <th>4</th>\n",
       "      <td>4</td>\n",
       "      <td>-1.138787</td>\n",
       "      <td>0.447214</td>\n",
       "      <td>-0.691574</td>\n",
       "    </tr>\n",
       "    <tr>\n",
       "      <th>...</th>\n",
       "      <td>...</td>\n",
       "      <td>...</td>\n",
       "      <td>...</td>\n",
       "      <td>...</td>\n",
       "    </tr>\n",
       "    <tr>\n",
       "      <th>196</th>\n",
       "      <td>196</td>\n",
       "      <td>0.560882</td>\n",
       "      <td>3.130495</td>\n",
       "      <td>3.691377</td>\n",
       "    </tr>\n",
       "    <tr>\n",
       "      <th>197</th>\n",
       "      <td>197</td>\n",
       "      <td>-0.338820</td>\n",
       "      <td>3.138471</td>\n",
       "      <td>2.799650</td>\n",
       "    </tr>\n",
       "    <tr>\n",
       "      <th>198</th>\n",
       "      <td>198</td>\n",
       "      <td>1.264800</td>\n",
       "      <td>3.146427</td>\n",
       "      <td>4.411226</td>\n",
       "    </tr>\n",
       "    <tr>\n",
       "      <th>199</th>\n",
       "      <td>199</td>\n",
       "      <td>0.833411</td>\n",
       "      <td>3.154362</td>\n",
       "      <td>3.987773</td>\n",
       "    </tr>\n",
       "    <tr>\n",
       "      <th>200</th>\n",
       "      <td>200</td>\n",
       "      <td>0.877769</td>\n",
       "      <td>3.162278</td>\n",
       "      <td>4.040047</td>\n",
       "    </tr>\n",
       "  </tbody>\n",
       "</table>\n",
       "<p>201 rows × 4 columns</p>\n",
       "</div>"
      ],
      "text/plain": [
       "       k      nois  true_trend         x\n",
       "0      0  0.792851    0.000000  0.792851\n",
       "1      1 -1.011445    0.223607 -0.787838\n",
       "2      2 -0.168596    0.316228  0.147632\n",
       "3      3 -0.435832    0.387298 -0.048534\n",
       "4      4 -1.138787    0.447214 -0.691574\n",
       "..   ...       ...         ...       ...\n",
       "196  196  0.560882    3.130495  3.691377\n",
       "197  197 -0.338820    3.138471  2.799650\n",
       "198  198  1.264800    3.146427  4.411226\n",
       "199  199  0.833411    3.154362  3.987773\n",
       "200  200  0.877769    3.162278  4.040047\n",
       "\n",
       "[201 rows x 4 columns]"
      ]
     },
     "execution_count": 13,
     "metadata": {},
     "output_type": "execute_result"
    }
   ],
   "source": [
    "sample_size = 201\n",
    "df = pd.DataFrame()\n",
    "df[\"k\"] = np.arange(sample_size)\n",
    "h = 0.05\n",
    "df[\"nois\"] = stats.norm.rvs(size=sample_size)\n",
    "df[\"true_trend\"] = np.sqrt(df[\"k\"] * h)\n",
    "df[\"x\"] = df[\"true_trend\"] + df[\"nois\"]\n",
    "windows = [21, 51, 111]\n",
    "df"
   ]
  },
  {
   "cell_type": "code",
   "execution_count": 14,
   "metadata": {},
   "outputs": [],
   "source": [
    "# rolling metric\n",
    "def rollingm(x: pd.Series, windows: list, metric: str, true_trend: pd.Series = None,  *args, **kwargs) -> list:\n",
    "    fig, axs = plt.subplots(len(windows))\n",
    "    fig.suptitle(metric)\n",
    "    trends = []\n",
    "    for i, window in enumerate(windows):\n",
    "        trends.append(x.rolling(window=window, center=True, min_periods=None).__getattribute__(metric)())\n",
    "        axs[i].plot(trends[-1])\n",
    "        if not true_trend is None:\n",
    "            axs[i].plot(true_trend)\n",
    "        axs[i].grid()\n",
    "    return trends\n"
   ]
  },
  {
   "cell_type": "code",
   "execution_count": 15,
   "metadata": {},
   "outputs": [
    {
     "data": {
      "image/png": "[encoded data removed]",
      "text/plain": [
       "<Figure size 432x288 with 3 Axes>"
      ]
     },
     "metadata": {
      "needs_background": "light"
     },
     "output_type": "display_data"
    }
   ],
   "source": [
    "# mean\n",
    "mean_trends = rollingm(df[\"x\"], windows, \"mean\", df[\"true_trend\"])"
   ]
  },
  {
   "cell_type": "code",
   "execution_count": 16,
   "metadata": {},
   "outputs": [
    {
     "data": {
      "image/png": "[encoded data removed]",
      "text/plain": [
       "<Figure size 432x288 with 3 Axes>"
      ]
     },
     "metadata": {
      "needs_background": "light"
     },
     "output_type": "display_data"
    }
   ],
   "source": [
    "median_trends = rollingm(df[\"x\"], windows, \"median\", df[\"true_trend\"])"
   ]
  },
  {
   "cell_type": "code",
   "execution_count": 17,
   "metadata": {},
   "outputs": [],
   "source": [
    "# turning points method\n",
    "def turning_points(series: pd.Series, trend: pd.Series) -> tuple:\n",
    "    rem = np.array((series - trend).dropna())\n",
    "    points = []\n",
    "    for i in range(1, len(rem) - 1):\n",
    "        if rem[i-1] is pd.NA or rem[i] is pd.NA or rem[i+1] is pd.NA:\n",
    "            continue\n",
    "        if (rem[i-1] < rem[i] and rem[i] > rem[i+1]) or (rem[i-1] > rem[i] and rem[i] < rem[i+1]):\n",
    "            points.append(1)\n",
    "        else:\n",
    "            points.append(0)\n",
    "    return sum(points), (len(points) - 2) * 2 / 3\n",
    "    "
   ]
  },
  {
   "cell_type": "code",
   "execution_count": 18,
   "metadata": {},
   "outputs": [],
   "source": [
    "# Kendal method\n",
    "def kendal(series: pd.Series, trend: pd.Series):\n",
    "    rem = np.array((series - trend).dropna())\n",
    "    n_revers = 0;\n",
    "    for i in range(len(rem)):\n",
    "        for j in range(i + 1, len(rem)):\n",
    "            if rem[j] > rem[i]:\n",
    "                n_revers += 1\n",
    "    return 4 * n_revers / (len(rem) * (len(rem) - 1)) - 1"
   ]
  },
  {
   "cell_type": "code",
   "execution_count": 19,
   "metadata": {},
   "outputs": [
    {
     "name": "stdout",
     "output_type": "stream",
     "text": [
      "mean\n",
      "window=21\n",
      "E[p], E[pc] = (106, 118.0)\n",
      "kendal coefficient = -0.01362799263351755\n",
      "\n",
      "mean\n",
      "window=51\n",
      "E[p], E[pc] = (86, 98.0)\n",
      "kendal coefficient = 0.004856512141280245\n",
      "\n",
      "mean\n",
      "window=111\n",
      "E[p], E[pc] = (52, 58.0)\n",
      "kendal coefficient = -0.02857142857142858\n",
      "\n",
      "median\n",
      "window=21\n",
      "E[p], E[pc] = (108, 118.0)\n",
      "kendal coefficient = -0.0049109883364026885\n",
      "\n",
      "median\n",
      "window=51\n",
      "E[p], E[pc] = (86, 98.0)\n",
      "kendal coefficient = -0.0023841059602649484\n",
      "\n",
      "median\n",
      "window=111\n",
      "E[p], E[pc] = (52, 58.0)\n",
      "kendal coefficient = -0.02271062271062274\n",
      "\n"
     ]
    }
   ],
   "source": [
    "trends = mean_trends + median_trends\n",
    "for i, trend in enumerate(trends):\n",
    "    print(\"mean\" if i // len(windows) == 0 else \"median\")\n",
    "    print(f\"window={windows[i % len(windows)]}\")\n",
    "    print(f\"E[p], E[pc] = {turning_points(df['x'], trend)}\")\n",
    "    print(f\"kendal coefficient = {kendal(df['x'], trend)}\")\n",
    "    print()\n"
   ]
  },
  {
   "cell_type": "code",
   "execution_count": null,
   "metadata": {},
   "outputs": [],
   "source": []
  },
  {
   "cell_type": "code",
   "execution_count": null,
   "metadata": {},
   "outputs": [],
   "source": []
  }
 ],
 "metadata": {
  "interpreter": {
   "hash": "916dbcbb3f70747c44a77c7bcd40155683ae19c65e1c03b4aa3499c5328201f1"
  },
  "kernelspec": {
   "display_name": "Python 3.8.10 64-bit",
   "name": "python3"
  },
  "language_info": {
   "codemirror_mode": {
    "name": "ipython",
    "version": 3
   },
   "file_extension": ".py",
   "mimetype": "text/x-python",
   "name": "python",
   "nbconvert_exporter": "python",
   "pygments_lexer": "ipython3",
   "version": "3.8.10"
  },
  "orig_nbformat": 4
 },
 "nbformat": 4,
 "nbformat_minor": 2
}
