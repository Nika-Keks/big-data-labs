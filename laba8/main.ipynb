{
 "cells": [
  {
   "cell_type": "code",
   "execution_count": 2,
   "metadata": {},
   "outputs": [],
   "source": [
    "import numpy as np\n",
    "import pandas as pd\n",
    "\n",
    "from scipy import stats\n",
    "from matplotlib import pyplot as plt\n",
    "from sklearn import linear_model\n",
    "from mlxtend import feature_selection\n",
    "from sklearn import preprocessing"
   ]
  },
  {
   "cell_type": "code",
   "execution_count": 3,
   "metadata": {},
   "outputs": [],
   "source": [
    "# data\n",
    "\n",
    "fy = lambda x1, x2, x3, e: 3 * x1 - 2 * x2 + x3 + e\n",
    "\n",
    "n_vars = 3\n",
    "size = 20\n",
    "\n",
    "nois = stats.norm.rvs(size=size)\n",
    "\n",
    "X = np.array([[stats.uniform.rvs(scale=10) for _ in range(n_vars)] for _ in range(size)])\n",
    "y = fy(*(X[:, i] for i in range(n_vars)), nois)"
   ]
  },
  {
   "cell_type": "code",
   "execution_count": 4,
   "metadata": {},
   "outputs": [
    {
     "data": {
      "text/plain": [
       "array([ 3.00542962, -2.0805196 ,  1.02351958])"
      ]
     },
     "execution_count": 4,
     "metadata": {},
     "output_type": "execute_result"
    }
   ],
   "source": [
    "lr_model = linear_model.LinearRegression()\n",
    "lr_model.fit(X=X, y=y)\n",
    "\n",
    "lr_model.coef_"
   ]
  },
  {
   "cell_type": "code",
   "execution_count": 5,
   "metadata": {},
   "outputs": [
    {
     "name": "stdout",
     "output_type": "stream",
     "text": [
      "RSS 12.882075865451803\n",
      "TSS 1561.946165171977\n",
      "RSE 0.8459733337487589\n",
      "NU 0.9917525481014045\n"
     ]
    }
   ],
   "source": [
    "# rss, rse, nu\n",
    "\n",
    "err = np.array(y - lr_model.predict(X=X))\n",
    "n = len(err)\n",
    "\n",
    "rss = err.dot(err)\n",
    "\n",
    "rse = np.sqrt(rss / (n - 2))\n",
    "\n",
    "tss = np.var(y) * n\n",
    "\n",
    "nu = (tss - rss) / tss\n",
    "\n",
    "print(f\"RSS {rss}\")\n",
    "print(f\"TSS {tss}\")\n",
    "print(f\"RSE {rse}\")\n",
    "print(f\"NU {nu}\")"
   ]
  },
  {
   "cell_type": "code",
   "execution_count": 6,
   "metadata": {},
   "outputs": [],
   "source": [
    "# feature selector"
   ]
  },
  {
   "cell_type": "code",
   "execution_count": 26,
   "metadata": {},
   "outputs": [
    {
     "name": "stderr",
     "output_type": "stream",
     "text": [
      "b'Skipping line 56081: expected 14 fields, saw 16\\nSkipping line 63628: expected 14 fields, saw 16\\n'\n"
     ]
    },
    {
     "name": "stdout",
     "output_type": "stream",
     "text": [
      "               datetime     T\n",
      "0      01.01.2021 23:30  -2.0\n",
      "1      01.01.2021 23:00  -3.0\n",
      "2      01.01.2021 22:30  -3.0\n",
      "3      01.01.2021 22:00  -3.0\n",
      "4      01.01.2021 21:30  -3.0\n",
      "...                 ...   ...\n",
      "80993  01.01.2016 02:30 -13.0\n",
      "80994  01.01.2016 02:00 -13.0\n",
      "80995  01.01.2016 01:30 -12.0\n",
      "80996  01.01.2016 01:00 -12.0\n",
      "80997  01.01.2016 00:00 -12.0\n",
      "\n",
      "[80994 rows x 2 columns]\n",
      "          T  year  mon  day\n",
      "47     -4.0  2021    1    1\n",
      "95     -5.0  2020   12   31\n",
      "142    -8.0  2020   12   30\n",
      "190    -5.0  2020   12   29\n",
      "238    -5.0  2020   12   28\n",
      "...     ...   ...  ...  ...\n",
      "80850 -20.0  2016    1    5\n",
      "80884 -16.0  2016    1    4\n",
      "80922 -16.0  2016    1    3\n",
      "80962 -14.0  2016    1    2\n",
      "80997 -12.0  2016    1    1\n",
      "\n",
      "[1780 rows x 4 columns]\n"
     ]
    }
   ],
   "source": [
    "# data \n",
    "\n",
    "path = r\"/home/aser/Documents/labs/s7/big_data/laba8/data/w_data.csv\"\n",
    "tdata = pd.read_csv(path, sep=\";\", encoding=\"utf-16\", comment=\"#\", error_bad_lines=False)\n",
    "tdata = pd.DataFrame({\"datetime\": tdata[\"Local time in Volgograd (airport)\"], \"T\": tdata[\"T\"]}).dropna()\n",
    "\n",
    "print(tdata)\n",
    "\n",
    "def line_criterius(datatime: str) -> bool:\n",
    "    data, time = datatime.split(\" \")\n",
    "    day, mon, year = data.split(\".\")\n",
    "    hour, minut = time.split(\":\")\n",
    "    dt_dict = {\n",
    "        \"year\": int(year),\n",
    "        \"mon\": int(mon),\n",
    "        \"day\": int(day),\n",
    "        \"hour\": int(hour),\n",
    "        \"min\": int(minut)  \n",
    "    }\n",
    "    return dt_dict\n",
    "\n",
    "new_features = [\n",
    "    \"year\",\n",
    "    \"mon\",\n",
    "    \"day\",\n",
    "    \"hour\",\n",
    "    \"min\"\n",
    "]\n",
    "\n",
    "for new_feature in new_features:\n",
    "    tdata[new_feature] = tdata[\"datetime\"].apply(lambda line: line_criterius(line)[new_feature])\n",
    "\n",
    "tdata = tdata.loc[tdata[\"min\"] == 0]\n",
    "tdata = tdata.loc[tdata[\"hour\"] == 0]\n",
    "tdata = tdata.drop([\"datetime\", \"min\", \"hour\"], axis=1)\n",
    "print(tdata)\n",
    "\n",
    "y_data = tdata[\"T\"]\n",
    "X_data = tdata.drop(\"T\", axis=1)\n",
    "\n",
    "y = np.array(y_data)\n",
    "X = np.array(X_data)"
   ]
  },
  {
   "cell_type": "code",
   "execution_count": 56,
   "metadata": {},
   "outputs": [
    {
     "data": {
      "text/plain": [
       "(0,\n",
       " 1,\n",
       " 2,\n",
       " 3,\n",
       " 4,\n",
       " 5,\n",
       " 6,\n",
       " 7,\n",
       " 8,\n",
       " 9,\n",
       " 10,\n",
       " 11,\n",
       " 12,\n",
       " 16,\n",
       " 17,\n",
       " 18,\n",
       " 22,\n",
       " 23,\n",
       " 30,\n",
       " 31,\n",
       " 37,\n",
       " 43,\n",
       " 50,\n",
       " 58,\n",
       " 63,\n",
       " 66,\n",
       " 67,\n",
       " 71,\n",
       " 72,\n",
       " 77,\n",
       " 78,\n",
       " 83)"
      ]
     },
     "execution_count": 56,
     "metadata": {},
     "output_type": "execute_result"
    }
   ],
   "source": [
    "# poly regression\n",
    "\n",
    "degree = 6\n",
    "poly_reg = preprocessing.PolynomialFeatures(degree=degree)\n",
    "X_poly = poly_reg.fit_transform(X)\n",
    "\n",
    "lr_model = linear_model.LinearRegression()\n",
    "feature_selector = feature_selection.SequentialFeatureSelector(lr_model, \n",
    "    k_features=32,\n",
    "    forward=True)\n",
    "\n",
    "features = feature_selector.fit(X=X_poly, y=y)\n",
    "features.k_feature_idx_\n"
   ]
  },
  {
   "cell_type": "code",
   "execution_count": 57,
   "metadata": {},
   "outputs": [],
   "source": [
    "lr_model = linear_model.LinearRegression()\n",
    "mX = X_poly[:, features.k_feature_idx_]\n",
    "lr_model.fit(X=mX, y=y)\n",
    "predict_y = lr_model.predict(X=mX)"
   ]
  },
  {
   "cell_type": "code",
   "execution_count": 58,
   "metadata": {},
   "outputs": [
    {
     "name": "stdout",
     "output_type": "stream",
     "text": [
      "N 1780\n",
      "RSS 36698.18949741297\n",
      "TSS 203997.547752809\n",
      "RSE 4.54314335822106\n",
      "NU 0.8201047517400482\n"
     ]
    }
   ],
   "source": [
    "err = np.array(y - predict_y)\n",
    "n = len(err)\n",
    "\n",
    "rss = err.dot(err)\n",
    "\n",
    "rse = np.sqrt(rss / (n - 2))\n",
    "\n",
    "tss = np.var(y) * n\n",
    "\n",
    "nu = (tss - rss) / tss\n",
    "\n",
    "print(f\"N {n}\")\n",
    "print(f\"RSS {rss}\")\n",
    "print(f\"TSS {tss}\")\n",
    "print(f\"RSE {rse}\")\n",
    "print(f\"NU {nu}\")"
   ]
  },
  {
   "cell_type": "code",
   "execution_count": null,
   "metadata": {},
   "outputs": [],
   "source": []
  }
 ],
 "metadata": {
  "interpreter": {
   "hash": "916dbcbb3f70747c44a77c7bcd40155683ae19c65e1c03b4aa3499c5328201f1"
  },
  "kernelspec": {
   "display_name": "Python 3.8.10 64-bit",
   "language": "python",
   "name": "python3"
  },
  "language_info": {
   "codemirror_mode": {
    "name": "ipython",
    "version": 3
   },
   "file_extension": ".py",
   "mimetype": "text/x-python",
   "name": "python",
   "nbconvert_exporter": "python",
   "pygments_lexer": "ipython3",
   "version": "3.8.10"
  },
  "orig_nbformat": 4
 },
 "nbformat": 4,
 "nbformat_minor": 2
}
